{
 "cells": [
  {
   "cell_type": "markdown",
   "metadata": {},
   "source": [
    "# **Capstone Module 2 - SaaS Analisis**\n",
    "# **JCDS 0406 001 - Abdul Hadi Setiawan**"
   ]
  },
  {
   "cell_type": "markdown",
   "metadata": {},
   "source": [
    "# <strong>  1. Latar Belakang Bisnis"
   ]
  },
  {
   "cell_type": "markdown",
   "metadata": {},
   "source": [
    "### Tentang Perusahaan\n",
    "SaaS (Software as a Service)  adalah model layanan komputasi yang menyediakan perangkat lunak sebagai layanan bagi pengguna yang diakses melalui internet dengan cara berlangganan. SaaS yang secara khusus berfokus pada penjualan melalui platform Amazon beroperasi di industri besar e-commerce dan terus berkembang di era digital. Mereka memiliki kepentingan khusus dalam menganalisis data, menjalin kemitraan yang strategis dengan Amazon, dan bertujuan untuk meningkatkan efisiensi operasional di platform tersebut. Meskipun mereka menghadapi persaingan dalam industri e-commerce yang sangat kompetitif, perusahaan ini berusaha memberikan solusi perangkat lunak menggunakan teknologi dan analisis data sebagai alat utama, dengan tujuan membantu bisnis mencapai kesuksesan yang lebih besar di lingkungan Amazon."
   ]
  },
  {
   "cell_type": "markdown",
   "metadata": {},
   "source": [
    "### Permasalahan\n",
    " SaaS saat ini menghadapi kendala dalam memahami dan menganalisa kinerja produk mereka di beberapa negara dan bagaimana diskon mempengaruhi keuntungan secara keseluruhan. Selain itu, terdapat kesulitan dalam menilai kinerja produk dan strategi penjualan yang efektif. Penting untuk mengevaluasi bagaimana strategi penjualan yang diterapkan dapat meningkatkan volume penjualan dan profitabilitas. Untuk mengatasi masalah ini, dibutuhkan data scientist melakukan analisis data SaaS secara menyeluruh untuk membantu perusahaan memahami dinamika pasar dan mengoptimalkan strategi bisnis mereka."
   ]
  },
  {
   "cell_type": "markdown",
   "metadata": {},
   "source": [
    "### Stakeholder\n",
    "1. Sales and Marketing Team:\n",
    "- Mereka ingin menganalisis kinerja penjualan tertinggi dari 5 negara untuk memperluas tim dan jaringan mereka di wilayah tersebut.\n",
    "- Mereka harus memilih 3 industri dengan keuntungan tertinggi untuk memprioritaskan industri mana yang harus mereka fokuskan.\n",
    "- Mereka perlu mengetahui informasi dasar tentang 5 produk yang paling sukses  untuk memprioritaskan alokasi sumber daya mereka dalam R&D.\n",
    "- Mereka ingin mengetahui korelasi antara profit dan diskon untuk mengukur efektivitas diskon dalam penjualan"
   ]
  },
  {
   "cell_type": "markdown",
   "metadata": {},
   "source": [
    "# <strong>  2. Pemahaman dan Proses Pembersihan Data"
   ]
  },
  {
   "cell_type": "markdown",
   "metadata": {},
   "source": [
    "### Loading Dataset"
   ]
  },
  {
   "cell_type": "code",
   "execution_count": 322,
   "metadata": {},
   "outputs": [],
   "source": [
    "import pandas as pd\n",
    "import numpy as np\n",
    "import matplotlib.pyplot as plt\n",
    "import seaborn as sns\n",
    "import plotly.express as px\n",
    "import squarify\n",
    "import plotly.graph_objects as go\n",
    "import scipy.stats as stats\n",
    "from scipy.stats import kruskal"
   ]
  },
  {
   "cell_type": "code",
   "execution_count": 323,
   "metadata": {},
   "outputs": [
    {
     "data": {
      "text/html": [
       "<div>\n",
       "<style scoped>\n",
       "    .dataframe tbody tr th:only-of-type {\n",
       "        vertical-align: middle;\n",
       "    }\n",
       "\n",
       "    .dataframe tbody tr th {\n",
       "        vertical-align: top;\n",
       "    }\n",
       "\n",
       "    .dataframe thead th {\n",
       "        text-align: right;\n",
       "    }\n",
       "</style>\n",
       "<table border=\"1\" class=\"dataframe\">\n",
       "  <thead>\n",
       "    <tr style=\"text-align: right;\">\n",
       "      <th></th>\n",
       "      <th>Row ID</th>\n",
       "      <th>Order ID</th>\n",
       "      <th>Order Date</th>\n",
       "      <th>Date Key</th>\n",
       "      <th>Contact Name</th>\n",
       "      <th>Country</th>\n",
       "      <th>City</th>\n",
       "      <th>Region</th>\n",
       "      <th>Subregion</th>\n",
       "      <th>Customer</th>\n",
       "      <th>Customer ID</th>\n",
       "      <th>Industry</th>\n",
       "      <th>Segment</th>\n",
       "      <th>Product</th>\n",
       "      <th>License</th>\n",
       "      <th>Sales</th>\n",
       "      <th>Quantity</th>\n",
       "      <th>Discount</th>\n",
       "      <th>Profit</th>\n",
       "    </tr>\n",
       "  </thead>\n",
       "  <tbody>\n",
       "    <tr>\n",
       "      <th>0</th>\n",
       "      <td>1</td>\n",
       "      <td>EMEA-2022-152156</td>\n",
       "      <td>11/9/2022</td>\n",
       "      <td>20221109</td>\n",
       "      <td>Nathan Bell</td>\n",
       "      <td>Ireland</td>\n",
       "      <td>Dublin</td>\n",
       "      <td>EMEA</td>\n",
       "      <td>UKIR</td>\n",
       "      <td>Chevron</td>\n",
       "      <td>1017</td>\n",
       "      <td>Energy</td>\n",
       "      <td>SMB</td>\n",
       "      <td>Marketing Suite</td>\n",
       "      <td>16GRM07R1K</td>\n",
       "      <td>261.9600</td>\n",
       "      <td>2</td>\n",
       "      <td>0.00</td>\n",
       "      <td>41.9136</td>\n",
       "    </tr>\n",
       "    <tr>\n",
       "      <th>1</th>\n",
       "      <td>2</td>\n",
       "      <td>EMEA-2022-152156</td>\n",
       "      <td>11/9/2022</td>\n",
       "      <td>20221109</td>\n",
       "      <td>Nathan Bell</td>\n",
       "      <td>Ireland</td>\n",
       "      <td>Dublin</td>\n",
       "      <td>EMEA</td>\n",
       "      <td>UKIR</td>\n",
       "      <td>Chevron</td>\n",
       "      <td>1017</td>\n",
       "      <td>Energy</td>\n",
       "      <td>SMB</td>\n",
       "      <td>FinanceHub</td>\n",
       "      <td>QLIW57KZUV</td>\n",
       "      <td>731.9400</td>\n",
       "      <td>3</td>\n",
       "      <td>0.00</td>\n",
       "      <td>219.5820</td>\n",
       "    </tr>\n",
       "    <tr>\n",
       "      <th>2</th>\n",
       "      <td>3</td>\n",
       "      <td>AMER-2022-138688</td>\n",
       "      <td>6/13/2022</td>\n",
       "      <td>20220613</td>\n",
       "      <td>Deirdre Bailey</td>\n",
       "      <td>United States</td>\n",
       "      <td>New York City</td>\n",
       "      <td>AMER</td>\n",
       "      <td>NAMER</td>\n",
       "      <td>Phillips 66</td>\n",
       "      <td>1056</td>\n",
       "      <td>Energy</td>\n",
       "      <td>Strategic</td>\n",
       "      <td>FinanceHub</td>\n",
       "      <td>JI6BVL70HQ</td>\n",
       "      <td>14.6200</td>\n",
       "      <td>2</td>\n",
       "      <td>0.00</td>\n",
       "      <td>6.8714</td>\n",
       "    </tr>\n",
       "    <tr>\n",
       "      <th>3</th>\n",
       "      <td>4</td>\n",
       "      <td>EMEA-2021-108966</td>\n",
       "      <td>10/11/2021</td>\n",
       "      <td>20211011</td>\n",
       "      <td>Zoe Hodges</td>\n",
       "      <td>Germany</td>\n",
       "      <td>Stuttgart</td>\n",
       "      <td>EMEA</td>\n",
       "      <td>EU-WEST</td>\n",
       "      <td>Royal Dutch Shell</td>\n",
       "      <td>1031</td>\n",
       "      <td>Energy</td>\n",
       "      <td>SMB</td>\n",
       "      <td>ContactMatcher</td>\n",
       "      <td>DE9GJKGD44</td>\n",
       "      <td>957.5775</td>\n",
       "      <td>5</td>\n",
       "      <td>0.45</td>\n",
       "      <td>-383.0310</td>\n",
       "    </tr>\n",
       "    <tr>\n",
       "      <th>4</th>\n",
       "      <td>5</td>\n",
       "      <td>EMEA-2021-108966</td>\n",
       "      <td>10/11/2021</td>\n",
       "      <td>20211011</td>\n",
       "      <td>Zoe Hodges</td>\n",
       "      <td>Germany</td>\n",
       "      <td>Stuttgart</td>\n",
       "      <td>EMEA</td>\n",
       "      <td>EU-WEST</td>\n",
       "      <td>Royal Dutch Shell</td>\n",
       "      <td>1031</td>\n",
       "      <td>Energy</td>\n",
       "      <td>SMB</td>\n",
       "      <td>Marketing Suite - Gold</td>\n",
       "      <td>OIF7NY23WD</td>\n",
       "      <td>22.3680</td>\n",
       "      <td>2</td>\n",
       "      <td>0.20</td>\n",
       "      <td>2.5164</td>\n",
       "    </tr>\n",
       "    <tr>\n",
       "      <th>...</th>\n",
       "      <td>...</td>\n",
       "      <td>...</td>\n",
       "      <td>...</td>\n",
       "      <td>...</td>\n",
       "      <td>...</td>\n",
       "      <td>...</td>\n",
       "      <td>...</td>\n",
       "      <td>...</td>\n",
       "      <td>...</td>\n",
       "      <td>...</td>\n",
       "      <td>...</td>\n",
       "      <td>...</td>\n",
       "      <td>...</td>\n",
       "      <td>...</td>\n",
       "      <td>...</td>\n",
       "      <td>...</td>\n",
       "      <td>...</td>\n",
       "      <td>...</td>\n",
       "      <td>...</td>\n",
       "    </tr>\n",
       "    <tr>\n",
       "      <th>9989</th>\n",
       "      <td>9990</td>\n",
       "      <td>EMEA-2020-110422</td>\n",
       "      <td>1/22/2020</td>\n",
       "      <td>20200122</td>\n",
       "      <td>Dan Allan</td>\n",
       "      <td>Germany</td>\n",
       "      <td>Hamburg</td>\n",
       "      <td>EMEA</td>\n",
       "      <td>EU-WEST</td>\n",
       "      <td>Johnson &amp; Johnson</td>\n",
       "      <td>1055</td>\n",
       "      <td>Healthcare</td>\n",
       "      <td>SMB</td>\n",
       "      <td>SaaS Connector Pack</td>\n",
       "      <td>ETHXMB5TMD</td>\n",
       "      <td>25.2480</td>\n",
       "      <td>3</td>\n",
       "      <td>0.20</td>\n",
       "      <td>4.1028</td>\n",
       "    </tr>\n",
       "    <tr>\n",
       "      <th>9990</th>\n",
       "      <td>9991</td>\n",
       "      <td>AMER-2023-121258</td>\n",
       "      <td>2/27/2023</td>\n",
       "      <td>20230227</td>\n",
       "      <td>Anthony Sanderson</td>\n",
       "      <td>United States</td>\n",
       "      <td>Milwaukee</td>\n",
       "      <td>AMER</td>\n",
       "      <td>NAMER</td>\n",
       "      <td>American Express</td>\n",
       "      <td>1005</td>\n",
       "      <td>Finance</td>\n",
       "      <td>SMB</td>\n",
       "      <td>SaaS Connector Pack</td>\n",
       "      <td>LYHOKTRY7L</td>\n",
       "      <td>91.9600</td>\n",
       "      <td>2</td>\n",
       "      <td>0.00</td>\n",
       "      <td>15.6332</td>\n",
       "    </tr>\n",
       "    <tr>\n",
       "      <th>9991</th>\n",
       "      <td>9992</td>\n",
       "      <td>AMER-2023-121258</td>\n",
       "      <td>2/27/2023</td>\n",
       "      <td>20230227</td>\n",
       "      <td>Anthony Sanderson</td>\n",
       "      <td>United States</td>\n",
       "      <td>Milwaukee</td>\n",
       "      <td>AMER</td>\n",
       "      <td>NAMER</td>\n",
       "      <td>American Express</td>\n",
       "      <td>1005</td>\n",
       "      <td>Finance</td>\n",
       "      <td>SMB</td>\n",
       "      <td>Site Analytics</td>\n",
       "      <td>I5SVMI6M88</td>\n",
       "      <td>258.5760</td>\n",
       "      <td>2</td>\n",
       "      <td>0.20</td>\n",
       "      <td>19.3932</td>\n",
       "    </tr>\n",
       "    <tr>\n",
       "      <th>9992</th>\n",
       "      <td>9993</td>\n",
       "      <td>AMER-2023-121258</td>\n",
       "      <td>2/27/2023</td>\n",
       "      <td>20230227</td>\n",
       "      <td>Anthony Sanderson</td>\n",
       "      <td>United States</td>\n",
       "      <td>Milwaukee</td>\n",
       "      <td>AMER</td>\n",
       "      <td>NAMER</td>\n",
       "      <td>American Express</td>\n",
       "      <td>1005</td>\n",
       "      <td>Finance</td>\n",
       "      <td>SMB</td>\n",
       "      <td>Support</td>\n",
       "      <td>JHLW4P6LQ2</td>\n",
       "      <td>29.6000</td>\n",
       "      <td>4</td>\n",
       "      <td>0.00</td>\n",
       "      <td>13.3200</td>\n",
       "    </tr>\n",
       "    <tr>\n",
       "      <th>9993</th>\n",
       "      <td>9994</td>\n",
       "      <td>AMER-2023-119914</td>\n",
       "      <td>5/5/2023</td>\n",
       "      <td>20230505</td>\n",
       "      <td>Jasmine Springer</td>\n",
       "      <td>United States</td>\n",
       "      <td>Dallas</td>\n",
       "      <td>AMER</td>\n",
       "      <td>NAMER</td>\n",
       "      <td>Comcast</td>\n",
       "      <td>1022</td>\n",
       "      <td>Communications</td>\n",
       "      <td>SMB</td>\n",
       "      <td>OneView</td>\n",
       "      <td>3NTBV9B3PS</td>\n",
       "      <td>243.1600</td>\n",
       "      <td>2</td>\n",
       "      <td>0.00</td>\n",
       "      <td>72.9480</td>\n",
       "    </tr>\n",
       "  </tbody>\n",
       "</table>\n",
       "<p>9994 rows × 19 columns</p>\n",
       "</div>"
      ],
      "text/plain": [
       "      Row ID          Order ID  Order Date  Date Key       Contact Name  \\\n",
       "0          1  EMEA-2022-152156   11/9/2022  20221109        Nathan Bell   \n",
       "1          2  EMEA-2022-152156   11/9/2022  20221109        Nathan Bell   \n",
       "2          3  AMER-2022-138688   6/13/2022  20220613     Deirdre Bailey   \n",
       "3          4  EMEA-2021-108966  10/11/2021  20211011         Zoe Hodges   \n",
       "4          5  EMEA-2021-108966  10/11/2021  20211011         Zoe Hodges   \n",
       "...      ...               ...         ...       ...                ...   \n",
       "9989    9990  EMEA-2020-110422   1/22/2020  20200122          Dan Allan   \n",
       "9990    9991  AMER-2023-121258   2/27/2023  20230227  Anthony Sanderson   \n",
       "9991    9992  AMER-2023-121258   2/27/2023  20230227  Anthony Sanderson   \n",
       "9992    9993  AMER-2023-121258   2/27/2023  20230227  Anthony Sanderson   \n",
       "9993    9994  AMER-2023-119914    5/5/2023  20230505   Jasmine Springer   \n",
       "\n",
       "            Country           City Region Subregion           Customer  \\\n",
       "0           Ireland         Dublin   EMEA      UKIR            Chevron   \n",
       "1           Ireland         Dublin   EMEA      UKIR            Chevron   \n",
       "2     United States  New York City   AMER     NAMER        Phillips 66   \n",
       "3           Germany      Stuttgart   EMEA   EU-WEST  Royal Dutch Shell   \n",
       "4           Germany      Stuttgart   EMEA   EU-WEST  Royal Dutch Shell   \n",
       "...             ...            ...    ...       ...                ...   \n",
       "9989        Germany        Hamburg   EMEA   EU-WEST  Johnson & Johnson   \n",
       "9990  United States      Milwaukee   AMER     NAMER   American Express   \n",
       "9991  United States      Milwaukee   AMER     NAMER   American Express   \n",
       "9992  United States      Milwaukee   AMER     NAMER   American Express   \n",
       "9993  United States         Dallas   AMER     NAMER            Comcast   \n",
       "\n",
       "      Customer ID        Industry    Segment                 Product  \\\n",
       "0            1017          Energy        SMB         Marketing Suite   \n",
       "1            1017          Energy        SMB              FinanceHub   \n",
       "2            1056          Energy  Strategic              FinanceHub   \n",
       "3            1031          Energy        SMB          ContactMatcher   \n",
       "4            1031          Energy        SMB  Marketing Suite - Gold   \n",
       "...           ...             ...        ...                     ...   \n",
       "9989         1055      Healthcare        SMB     SaaS Connector Pack   \n",
       "9990         1005         Finance        SMB     SaaS Connector Pack   \n",
       "9991         1005         Finance        SMB          Site Analytics   \n",
       "9992         1005         Finance        SMB                 Support   \n",
       "9993         1022  Communications        SMB                 OneView   \n",
       "\n",
       "         License     Sales  Quantity  Discount    Profit  \n",
       "0     16GRM07R1K  261.9600         2      0.00   41.9136  \n",
       "1     QLIW57KZUV  731.9400         3      0.00  219.5820  \n",
       "2     JI6BVL70HQ   14.6200         2      0.00    6.8714  \n",
       "3     DE9GJKGD44  957.5775         5      0.45 -383.0310  \n",
       "4     OIF7NY23WD   22.3680         2      0.20    2.5164  \n",
       "...          ...       ...       ...       ...       ...  \n",
       "9989  ETHXMB5TMD   25.2480         3      0.20    4.1028  \n",
       "9990  LYHOKTRY7L   91.9600         2      0.00   15.6332  \n",
       "9991  I5SVMI6M88  258.5760         2      0.20   19.3932  \n",
       "9992  JHLW4P6LQ2   29.6000         4      0.00   13.3200  \n",
       "9993  3NTBV9B3PS  243.1600         2      0.00   72.9480  \n",
       "\n",
       "[9994 rows x 19 columns]"
      ]
     },
     "execution_count": 323,
     "metadata": {},
     "output_type": "execute_result"
    }
   ],
   "source": [
    "df = pd.read_csv(\"SaaS-Sales.csv\")\n",
    "df"
   ]
  },
  {
   "cell_type": "code",
   "execution_count": 324,
   "metadata": {},
   "outputs": [
    {
     "data": {
      "text/plain": [
       "Index(['Row ID', 'Order ID', 'Order Date', 'Date Key', 'Contact Name',\n",
       "       'Country', 'City', 'Region', 'Subregion', 'Customer', 'Customer ID',\n",
       "       'Industry', 'Segment', 'Product', 'License', 'Sales', 'Quantity',\n",
       "       'Discount', 'Profit'],\n",
       "      dtype='object')"
      ]
     },
     "execution_count": 324,
     "metadata": {},
     "output_type": "execute_result"
    }
   ],
   "source": [
    "df.columns"
   ]
  },
  {
   "cell_type": "markdown",
   "metadata": {},
   "source": [
    "1. Row ID       : A unique identifier for each transaction.\n",
    "2. Order ID     : A unique identifier for each order.\n",
    "3. Order Date   : The date when the order was placed.\n",
    "4. Date Key     : A numerical representation of the order date (YYYYMMDD).\n",
    "5. Contact Name : The name of the person who placed the order.\n",
    "6. Country      : The country where the order was placed.\n",
    "7. City         : The city where the order was placed.\n",
    "8. Region       : The region where the order was placed.\n",
    "9. Subregion    : The subregion where the order was placed.\n",
    "10. Customer    : The name of the company that placed the order.\n",
    "11. Customer ID : A unique identifier for each customer.\n",
    "12. Industry    : The industry the customer belongs to.\n",
    "13. Segment     : The customer segment (SMB, Strategic, Enterprise, etc.).\n",
    "14. Product     : The product was ordered.\n",
    "15. License     : The license key for the product.\n",
    "16. Sales       : The total sales amount for the transaction.\n",
    "17. Quantity    : The total number of items in the transaction.\n",
    "18. Discount    : The discount applied to the transaction.\n",
    "19. Profit      : The profit from the transaction."
   ]
  },
  {
   "cell_type": "code",
   "execution_count": 325,
   "metadata": {},
   "outputs": [
    {
     "name": "stdout",
     "output_type": "stream",
     "text": [
      "<class 'pandas.core.frame.DataFrame'>\n",
      "RangeIndex: 9994 entries, 0 to 9993\n",
      "Data columns (total 19 columns):\n",
      " #   Column        Non-Null Count  Dtype  \n",
      "---  ------        --------------  -----  \n",
      " 0   Row ID        9994 non-null   int64  \n",
      " 1   Order ID      9994 non-null   object \n",
      " 2   Order Date    9994 non-null   object \n",
      " 3   Date Key      9994 non-null   int64  \n",
      " 4   Contact Name  9994 non-null   object \n",
      " 5   Country       9994 non-null   object \n",
      " 6   City          9994 non-null   object \n",
      " 7   Region        9994 non-null   object \n",
      " 8   Subregion     9994 non-null   object \n",
      " 9   Customer      9994 non-null   object \n",
      " 10  Customer ID   9994 non-null   int64  \n",
      " 11  Industry      9994 non-null   object \n",
      " 12  Segment       9994 non-null   object \n",
      " 13  Product       9994 non-null   object \n",
      " 14  License       9994 non-null   object \n",
      " 15  Sales         9994 non-null   float64\n",
      " 16  Quantity      9994 non-null   int64  \n",
      " 17  Discount      9994 non-null   float64\n",
      " 18  Profit        9994 non-null   float64\n",
      "dtypes: float64(3), int64(4), object(12)\n",
      "memory usage: 1.4+ MB\n"
     ]
    }
   ],
   "source": [
    "df.info()"
   ]
  },
  {
   "cell_type": "markdown",
   "metadata": {},
   "source": [
    "### Manipulasi Data"
   ]
  },
  {
   "cell_type": "code",
   "execution_count": 326,
   "metadata": {},
   "outputs": [
    {
     "name": "stdout",
     "output_type": "stream",
     "text": [
      "<class 'pandas.core.frame.DataFrame'>\n",
      "RangeIndex: 9994 entries, 0 to 9993\n",
      "Data columns (total 20 columns):\n",
      " #   Column        Non-Null Count  Dtype         \n",
      "---  ------        --------------  -----         \n",
      " 0   Row ID        9994 non-null   int16         \n",
      " 1   Order ID      9994 non-null   object        \n",
      " 2   Order Date    9994 non-null   datetime64[ns]\n",
      " 3   Date Key      9994 non-null   datetime64[ns]\n",
      " 4   Contact Name  9994 non-null   object        \n",
      " 5   Country       9994 non-null   object        \n",
      " 6   City          9994 non-null   object        \n",
      " 7   Region        9994 non-null   object        \n",
      " 8   Subregion     9994 non-null   object        \n",
      " 9   Customer      9994 non-null   object        \n",
      " 10  Customer ID   9994 non-null   int16         \n",
      " 11  Industry      9994 non-null   object        \n",
      " 12  Segment       9994 non-null   object        \n",
      " 13  Product       9994 non-null   object        \n",
      " 14  License       9994 non-null   object        \n",
      " 15  Sales         9994 non-null   float64       \n",
      " 16  Quantity      9994 non-null   int64         \n",
      " 17  Discount      9994 non-null   float64       \n",
      " 18  Profit        9994 non-null   float64       \n",
      " 19  Year          9994 non-null   int32         \n",
      "dtypes: datetime64[ns](2), float64(3), int16(2), int32(1), int64(1), object(11)\n",
      "memory usage: 1.4+ MB\n"
     ]
    }
   ],
   "source": [
    "# Mengkonversi kolum 'Order Date' dan 'Date Key' ke Format datetime (YYYYMMDD)\n",
    "df['Order Date'] = pd.to_datetime(df['Order Date'])\n",
    "df['Date Key'] = pd.to_datetime(df['Date Key'], format='%Y%m%d')\n",
    "\n",
    "# Mengganti Tipe Data\n",
    "df['Row ID'] = df['Row ID'].astype('int16')\n",
    "df['Customer ID'] = df['Customer ID'].astype('int16')\n",
    "\n",
    "# Menambah Kolum Tahun\n",
    "df['Year'] = df['Order Date'].dt.year\n",
    "\n",
    "df.info()\n"
   ]
  },
  {
   "cell_type": "code",
   "execution_count": 327,
   "metadata": {},
   "outputs": [
    {
     "data": {
      "text/plain": [
       "array(['Argentina', 'Australia', 'Austria', 'Belgium', 'Brazil', 'Canada',\n",
       "       'Chile', 'China', 'Colombia', 'Costa Rica', 'Croatia',\n",
       "       'Czech Republic', 'Denmark', 'Egypt', 'Finland', 'France',\n",
       "       'Germany', 'Greece', 'Iceland', 'India', 'Indonesia', 'Ireland',\n",
       "       'Israel', 'Italy', 'Japan', 'Luxembourg', 'Mexico', 'Netherlands',\n",
       "       'New Zealand', 'Norway', 'Philippines', 'Poland', 'Portugal',\n",
       "       'Qatar', 'Russia', 'Saudi Arabia', 'Singapore', 'Slovenia',\n",
       "       'South Africa', 'South Korea', 'Spain', 'Sweden', 'Taiwan',\n",
       "       'Turkey', 'Ukraine', 'United Arab Emirates', 'United Kingdom',\n",
       "       'United States'], dtype=object)"
      ]
     },
     "execution_count": 327,
     "metadata": {},
     "output_type": "execute_result"
    }
   ],
   "source": [
    "# Cek Unique Value dalam Kolom Country\n",
    "np.sort(df['Country'].unique())"
   ]
  },
  {
   "cell_type": "markdown",
   "metadata": {},
   "source": [
    "Tidak terdapat unique value dalam kolom Country"
   ]
  },
  {
   "cell_type": "code",
   "execution_count": 328,
   "metadata": {},
   "outputs": [
    {
     "data": {
      "text/plain": [
       "array(['Communications', 'Consumer Products', 'Energy', 'Finance',\n",
       "       'Healthcare', 'Manufacturing', 'Misc', 'Retail', 'Tech',\n",
       "       'Transportation'], dtype=object)"
      ]
     },
     "execution_count": 328,
     "metadata": {},
     "output_type": "execute_result"
    }
   ],
   "source": [
    "# Cek Unique Value dalam Kolom Industry\n",
    "np.sort(df['Industry'].unique())"
   ]
  },
  {
   "cell_type": "markdown",
   "metadata": {},
   "source": [
    "Tidak terdapat unique value dalam kolom Idustry"
   ]
  },
  {
   "cell_type": "code",
   "execution_count": 329,
   "metadata": {},
   "outputs": [
    {
     "data": {
      "text/plain": [
       "array(['Enterprise', 'SMB', 'Strategic'], dtype=object)"
      ]
     },
     "execution_count": 329,
     "metadata": {},
     "output_type": "execute_result"
    }
   ],
   "source": [
    "# Cek Unique Value dalam Kolom Segment\n",
    "np.sort(df['Segment'].unique())"
   ]
  },
  {
   "cell_type": "markdown",
   "metadata": {},
   "source": [
    "Tidak terdapat unique value dalam kolom Segment"
   ]
  },
  {
   "cell_type": "code",
   "execution_count": 330,
   "metadata": {},
   "outputs": [
    {
     "data": {
      "text/plain": [
       "array(['Alchemy', 'Big Ol Database', 'ChatBot Plugin', 'ContactMatcher',\n",
       "       'Data Smasher', 'FinanceHub', 'Marketing Suite',\n",
       "       'Marketing Suite - Gold', 'OneView', 'SaaS Connector Pack',\n",
       "       'SaaS Connector Pack - Gold', 'Site Analytics', 'Storage',\n",
       "       'Support'], dtype=object)"
      ]
     },
     "execution_count": 330,
     "metadata": {},
     "output_type": "execute_result"
    }
   ],
   "source": [
    "# Cek Unique Value dalam Kolom Product\n",
    "np.sort(df['Product'].unique())"
   ]
  },
  {
   "cell_type": "markdown",
   "metadata": {},
   "source": [
    "Tidak terdapat unique value dalam kolom Pruduct"
   ]
  },
  {
   "cell_type": "markdown",
   "metadata": {},
   "source": [
    "### Cek Data Duplicate dan Missing Value "
   ]
  },
  {
   "cell_type": "code",
   "execution_count": 331,
   "metadata": {},
   "outputs": [
    {
     "name": "stdout",
     "output_type": "stream",
     "text": [
      "Jumlah data duplikat: 0\n",
      "Data duplikat:\n",
      "Empty DataFrame\n",
      "Columns: [Row ID, Order ID, Order Date, Date Key, Contact Name, Country, City, Region, Subregion, Customer, Customer ID, Industry, Segment, Product, License, Sales, Quantity, Discount, Profit, Year]\n",
      "Index: []\n"
     ]
    }
   ],
   "source": [
    "# Cek Data Duplicate\n",
    "duplicate_rows = df[df.duplicated()]\n",
    "print(\"Jumlah data duplikat:\", duplicate_rows.shape[0])\n",
    "print(\"Data duplikat:\")\n",
    "print(duplicate_rows)"
   ]
  },
  {
   "cell_type": "markdown",
   "metadata": {},
   "source": [
    "Tidak ada data duplikat, oleh karena itu tidak diperlukan untuk menghapus data duplikat"
   ]
  },
  {
   "cell_type": "code",
   "execution_count": 332,
   "metadata": {},
   "outputs": [
    {
     "name": "stdout",
     "output_type": "stream",
     "text": [
      "Missing Value for Each Column:\n",
      " Row ID          0\n",
      "Order ID        0\n",
      "Order Date      0\n",
      "Date Key        0\n",
      "Contact Name    0\n",
      "Country         0\n",
      "City            0\n",
      "Region          0\n",
      "Subregion       0\n",
      "Customer        0\n",
      "Customer ID     0\n",
      "Industry        0\n",
      "Segment         0\n",
      "Product         0\n",
      "License         0\n",
      "Sales           0\n",
      "Quantity        0\n",
      "Discount        0\n",
      "Profit          0\n",
      "Year            0\n",
      "dtype: int64\n"
     ]
    },
    {
     "data": {
      "image/png": "[encoded data removed]",
      "text/plain": [
       "<Figure size 1800x600 with 1 Axes>"
      ]
     },
     "metadata": {},
     "output_type": "display_data"
    }
   ],
   "source": [
    "# Menghitung Missing Value pada Setiap Kolom\n",
    "missing_values = df.isnull().sum()\n",
    "\n",
    "print(\"Missing Value for Each Column:\\n\", missing_values)\n",
    "\n",
    "# Menampilkan Visualisasi dengan Heatmap\n",
    "plt.figure(figsize=(18, 6))\n",
    "sns.heatmap(df.isnull(), cmap='viridis', cbar=False, yticklabels=False)\n",
    "plt.title('Heatmap of Missing Values')\n",
    "plt.show()"
   ]
  },
  {
   "cell_type": "markdown",
   "metadata": {},
   "source": [
    "Tidak ada missing value, oleh karena itu tidak diperlukan tindakan untuk mengisi atau menghapus baris yang memiliki missing value"
   ]
  },
  {
   "cell_type": "code",
   "execution_count": 333,
   "metadata": {},
   "outputs": [
    {
     "data": {
      "text/html": [
       "<div>\n",
       "<style scoped>\n",
       "    .dataframe tbody tr th:only-of-type {\n",
       "        vertical-align: middle;\n",
       "    }\n",
       "\n",
       "    .dataframe tbody tr th {\n",
       "        vertical-align: top;\n",
       "    }\n",
       "\n",
       "    .dataframe thead th {\n",
       "        text-align: right;\n",
       "    }\n",
       "</style>\n",
       "<table border=\"1\" class=\"dataframe\">\n",
       "  <thead>\n",
       "    <tr style=\"text-align: right;\">\n",
       "      <th></th>\n",
       "      <th>feature</th>\n",
       "      <th>data_type</th>\n",
       "      <th>null_value(%)</th>\n",
       "      <th>n_unique</th>\n",
       "      <th>duplicate</th>\n",
       "      <th>sample_unique</th>\n",
       "    </tr>\n",
       "  </thead>\n",
       "  <tbody>\n",
       "    <tr>\n",
       "      <th>0</th>\n",
       "      <td>Row ID</td>\n",
       "      <td>int16</td>\n",
       "      <td>0.0</td>\n",
       "      <td>9994</td>\n",
       "      <td>0</td>\n",
       "      <td>[1, 2, 3, 4, 5, 6, 7, 8, 9, 10, 11, 12, 13, 14...</td>\n",
       "    </tr>\n",
       "    <tr>\n",
       "      <th>1</th>\n",
       "      <td>Order ID</td>\n",
       "      <td>object</td>\n",
       "      <td>0.0</td>\n",
       "      <td>5009</td>\n",
       "      <td>0</td>\n",
       "      <td>[EMEA-2022-152156, AMER-2022-138688, EMEA-2021...</td>\n",
       "    </tr>\n",
       "    <tr>\n",
       "      <th>2</th>\n",
       "      <td>Order Date</td>\n",
       "      <td>datetime64[ns]</td>\n",
       "      <td>0.0</td>\n",
       "      <td>1237</td>\n",
       "      <td>0</td>\n",
       "      <td>[2022-11-09 00:00:00, 2022-06-13 00:00:00, 202...</td>\n",
       "    </tr>\n",
       "    <tr>\n",
       "      <th>3</th>\n",
       "      <td>Date Key</td>\n",
       "      <td>datetime64[ns]</td>\n",
       "      <td>0.0</td>\n",
       "      <td>1237</td>\n",
       "      <td>0</td>\n",
       "      <td>[2022-11-09 00:00:00, 2022-06-13 00:00:00, 202...</td>\n",
       "    </tr>\n",
       "    <tr>\n",
       "      <th>4</th>\n",
       "      <td>Contact Name</td>\n",
       "      <td>object</td>\n",
       "      <td>0.0</td>\n",
       "      <td>793</td>\n",
       "      <td>0</td>\n",
       "      <td>[Nathan Bell, Deirdre Bailey, Zoe Hodges, Thom...</td>\n",
       "    </tr>\n",
       "    <tr>\n",
       "      <th>5</th>\n",
       "      <td>Country</td>\n",
       "      <td>object</td>\n",
       "      <td>0.0</td>\n",
       "      <td>48</td>\n",
       "      <td>0</td>\n",
       "      <td>[Ireland, United States, Germany, Sweden, Cana...</td>\n",
       "    </tr>\n",
       "    <tr>\n",
       "      <th>6</th>\n",
       "      <td>City</td>\n",
       "      <td>object</td>\n",
       "      <td>0.0</td>\n",
       "      <td>262</td>\n",
       "      <td>0</td>\n",
       "      <td>[Dublin, New York City, Stuttgart, Stockholm, ...</td>\n",
       "    </tr>\n",
       "    <tr>\n",
       "      <th>7</th>\n",
       "      <td>Region</td>\n",
       "      <td>object</td>\n",
       "      <td>0.0</td>\n",
       "      <td>3</td>\n",
       "      <td>0</td>\n",
       "      <td>[EMEA, AMER, APJ]</td>\n",
       "    </tr>\n",
       "    <tr>\n",
       "      <th>8</th>\n",
       "      <td>Subregion</td>\n",
       "      <td>object</td>\n",
       "      <td>0.0</td>\n",
       "      <td>12</td>\n",
       "      <td>0</td>\n",
       "      <td>[UKIR, NAMER, EU-WEST, NOR, JAPN, EU, MEA, LAT...</td>\n",
       "    </tr>\n",
       "    <tr>\n",
       "      <th>9</th>\n",
       "      <td>Customer</td>\n",
       "      <td>object</td>\n",
       "      <td>0.0</td>\n",
       "      <td>99</td>\n",
       "      <td>0</td>\n",
       "      <td>[Chevron, Phillips 66, Royal Dutch Shell, BNP ...</td>\n",
       "    </tr>\n",
       "    <tr>\n",
       "      <th>10</th>\n",
       "      <td>Customer ID</td>\n",
       "      <td>int16</td>\n",
       "      <td>0.0</td>\n",
       "      <td>99</td>\n",
       "      <td>0</td>\n",
       "      <td>[1017, 1056, 1031, 1065, 1062, 1066, 1074, 108...</td>\n",
       "    </tr>\n",
       "    <tr>\n",
       "      <th>11</th>\n",
       "      <td>Industry</td>\n",
       "      <td>object</td>\n",
       "      <td>0.0</td>\n",
       "      <td>10</td>\n",
       "      <td>0</td>\n",
       "      <td>[Energy, Finance, Tech, Healthcare, Manufactur...</td>\n",
       "    </tr>\n",
       "    <tr>\n",
       "      <th>12</th>\n",
       "      <td>Segment</td>\n",
       "      <td>object</td>\n",
       "      <td>0.0</td>\n",
       "      <td>3</td>\n",
       "      <td>0</td>\n",
       "      <td>[SMB, Strategic, Enterprise]</td>\n",
       "    </tr>\n",
       "    <tr>\n",
       "      <th>13</th>\n",
       "      <td>Product</td>\n",
       "      <td>object</td>\n",
       "      <td>0.0</td>\n",
       "      <td>14</td>\n",
       "      <td>0</td>\n",
       "      <td>[Marketing Suite, FinanceHub, ContactMatcher, ...</td>\n",
       "    </tr>\n",
       "    <tr>\n",
       "      <th>14</th>\n",
       "      <td>License</td>\n",
       "      <td>object</td>\n",
       "      <td>0.0</td>\n",
       "      <td>9994</td>\n",
       "      <td>0</td>\n",
       "      <td>[16GRM07R1K, QLIW57KZUV, JI6BVL70HQ, DE9GJKGD4...</td>\n",
       "    </tr>\n",
       "    <tr>\n",
       "      <th>15</th>\n",
       "      <td>Sales</td>\n",
       "      <td>float64</td>\n",
       "      <td>0.0</td>\n",
       "      <td>5825</td>\n",
       "      <td>0</td>\n",
       "      <td>[261.96, 731.94, 14.62, 957.5775, 22.368, 48.8...</td>\n",
       "    </tr>\n",
       "    <tr>\n",
       "      <th>16</th>\n",
       "      <td>Quantity</td>\n",
       "      <td>int64</td>\n",
       "      <td>0.0</td>\n",
       "      <td>14</td>\n",
       "      <td>0</td>\n",
       "      <td>[2, 3, 5, 7, 4, 6, 9, 1, 8, 14, 11, 13, 10, 12]</td>\n",
       "    </tr>\n",
       "    <tr>\n",
       "      <th>17</th>\n",
       "      <td>Discount</td>\n",
       "      <td>float64</td>\n",
       "      <td>0.0</td>\n",
       "      <td>12</td>\n",
       "      <td>0</td>\n",
       "      <td>[0.0, 0.45, 0.2, 0.8, 0.3, 0.5, 0.7, 0.6, 0.32...</td>\n",
       "    </tr>\n",
       "    <tr>\n",
       "      <th>18</th>\n",
       "      <td>Profit</td>\n",
       "      <td>float64</td>\n",
       "      <td>0.0</td>\n",
       "      <td>7287</td>\n",
       "      <td>0</td>\n",
       "      <td>[41.9136, 219.582, 6.8714, -383.031, 2.5164, 1...</td>\n",
       "    </tr>\n",
       "    <tr>\n",
       "      <th>19</th>\n",
       "      <td>Year</td>\n",
       "      <td>int32</td>\n",
       "      <td>0.0</td>\n",
       "      <td>4</td>\n",
       "      <td>0</td>\n",
       "      <td>[2022, 2021, 2020, 2023]</td>\n",
       "    </tr>\n",
       "  </tbody>\n",
       "</table>\n",
       "</div>"
      ],
      "text/plain": [
       "         feature       data_type  null_value(%)  n_unique  duplicate  \\\n",
       "0         Row ID           int16            0.0      9994          0   \n",
       "1       Order ID          object            0.0      5009          0   \n",
       "2     Order Date  datetime64[ns]            0.0      1237          0   \n",
       "3       Date Key  datetime64[ns]            0.0      1237          0   \n",
       "4   Contact Name          object            0.0       793          0   \n",
       "5        Country          object            0.0        48          0   \n",
       "6           City          object            0.0       262          0   \n",
       "7         Region          object            0.0         3          0   \n",
       "8      Subregion          object            0.0        12          0   \n",
       "9       Customer          object            0.0        99          0   \n",
       "10   Customer ID           int16            0.0        99          0   \n",
       "11      Industry          object            0.0        10          0   \n",
       "12       Segment          object            0.0         3          0   \n",
       "13       Product          object            0.0        14          0   \n",
       "14       License          object            0.0      9994          0   \n",
       "15         Sales         float64            0.0      5825          0   \n",
       "16      Quantity           int64            0.0        14          0   \n",
       "17      Discount         float64            0.0        12          0   \n",
       "18        Profit         float64            0.0      7287          0   \n",
       "19          Year           int32            0.0         4          0   \n",
       "\n",
       "                                        sample_unique  \n",
       "0   [1, 2, 3, 4, 5, 6, 7, 8, 9, 10, 11, 12, 13, 14...  \n",
       "1   [EMEA-2022-152156, AMER-2022-138688, EMEA-2021...  \n",
       "2   [2022-11-09 00:00:00, 2022-06-13 00:00:00, 202...  \n",
       "3   [2022-11-09 00:00:00, 2022-06-13 00:00:00, 202...  \n",
       "4   [Nathan Bell, Deirdre Bailey, Zoe Hodges, Thom...  \n",
       "5   [Ireland, United States, Germany, Sweden, Cana...  \n",
       "6   [Dublin, New York City, Stuttgart, Stockholm, ...  \n",
       "7                                   [EMEA, AMER, APJ]  \n",
       "8   [UKIR, NAMER, EU-WEST, NOR, JAPN, EU, MEA, LAT...  \n",
       "9   [Chevron, Phillips 66, Royal Dutch Shell, BNP ...  \n",
       "10  [1017, 1056, 1031, 1065, 1062, 1066, 1074, 108...  \n",
       "11  [Energy, Finance, Tech, Healthcare, Manufactur...  \n",
       "12                       [SMB, Strategic, Enterprise]  \n",
       "13  [Marketing Suite, FinanceHub, ContactMatcher, ...  \n",
       "14  [16GRM07R1K, QLIW57KZUV, JI6BVL70HQ, DE9GJKGD4...  \n",
       "15  [261.96, 731.94, 14.62, 957.5775, 22.368, 48.8...  \n",
       "16    [2, 3, 5, 7, 4, 6, 9, 1, 8, 14, 11, 13, 10, 12]  \n",
       "17  [0.0, 0.45, 0.2, 0.8, 0.3, 0.5, 0.7, 0.6, 0.32...  \n",
       "18  [41.9136, 219.582, 6.8714, -383.031, 2.5164, 1...  \n",
       "19                           [2022, 2021, 2020, 2023]  "
      ]
     },
     "execution_count": 333,
     "metadata": {},
     "output_type": "execute_result"
    }
   ],
   "source": [
    "pd.DataFrame({\n",
    "    'feature'           : df.columns.values,\n",
    "    'data_type'         : df.dtypes.values,\n",
    "    'null_value(%)'     : df.isna().mean().values * 100,\n",
    "    'n_unique'          : df.nunique().values,\n",
    "    'duplicate'         : df.duplicated().sum(),\n",
    "    'sample_unique'     : [df[col].unique() for col in df.columns]}\n",
    ").round(3)"
   ]
  },
  {
   "cell_type": "markdown",
   "metadata": {},
   "source": [
    "Setelah melakukan pengecekan data, secara umum kita bisa melihat bahwa:\n",
    "* dataset SaaS memiliki 19 kolom dan 9994 baris\n",
    "* Dari setiap kolom menunjukan bahwa tidak terdapat missing value dan data duplikat.\n",
    "\n",
    "Dapat disimpulkan bahwa data ini adalah data yang bersih"
   ]
  },
  {
   "cell_type": "code",
   "execution_count": 352,
   "metadata": {},
   "outputs": [
    {
     "name": "stdout",
     "output_type": "stream",
     "text": [
      "                IQR  Lower Bound  Upper Bound  Outliers Count\n",
      "Sales     192.66000  -271.710000   498.930000             0.0\n",
      "Quantity    3.00000    -2.500000     9.500000             0.0\n",
      "Discount    0.20000    -0.300000     0.500000             0.0\n",
      "Profit     27.63525   -39.724125    70.816875             0.0\n"
     ]
    }
   ],
   "source": [
    "# Menghitung IQR pada Setiap Kolum Numerik\n",
    "# Kolom numerik\n",
    "numerical_cols = ['Sales', 'Quantity', 'Discount', 'Profit']\n",
    "\n",
    "outliers_info = {}\n",
    "\n",
    "for col in numerical_cols:\n",
    "    q1 = df[col].quantile(0.25)\n",
    "    q3 = df[col].quantile(0.75)\n",
    "    iqr = q3 - q1\n",
    "    lower_bound = q1 - 1.5 * iqr\n",
    "    upper_bound = q3 + 1.5 * iqr\n",
    "\n",
    "    # Identifikasi outlier\n",
    "    outliers = df[(df[col] < lower_bound) | (df[col] > upper_bound)]\n",
    "\n",
    "    outliers_info[col] = {\n",
    "        \"IQR\": iqr,\n",
    "        \"Lower Bound\": lower_bound,\n",
    "        \"Upper Bound\": upper_bound,\n",
    "        \"Outliers Count\": len(outliers)\n",
    "    }\n",
    "\n",
    "outliers_info_df = pd.DataFrame(outliers_info).transpose()\n",
    "print(outliers_info_df)"
   ]
  },
  {
   "cell_type": "code",
   "execution_count": 346,
   "metadata": {},
   "outputs": [
    {
     "data": {
      "image/png": "[encoded data removed]",
      "text/plain": [
       "<Figure size 400x400 with 1 Axes>"
      ]
     },
     "metadata": {},
     "output_type": "display_data"
    },
    {
     "data": {
      "image/png": "[encoded data removed]",
      "text/plain": [
       "<Figure size 400x400 with 1 Axes>"
      ]
     },
     "metadata": {},
     "output_type": "display_data"
    },
    {
     "data": {
      "image/png": "[encoded data removed]",
      "text/plain": [
       "<Figure size 400x400 with 1 Axes>"
      ]
     },
     "metadata": {},
     "output_type": "display_data"
    },
    {
     "data": {
      "image/png": "[encoded data removed]",
      "text/plain": [
       "<Figure size 400x400 with 1 Axes>"
      ]
     },
     "metadata": {},
     "output_type": "display_data"
    }
   ],
   "source": [
    "#Menampilkan Boxplot pada Setiap Kolum.\n",
    "plt.figure(figsize=(4,4))\n",
    "sns.boxplot(x=df['Sales'])\n",
    "plt.show()\n",
    "\n",
    "plt.figure(figsize=(4,4))\n",
    "sns.boxplot(x=df['Quantity'])\n",
    "plt.show()\n",
    "\n",
    "plt.figure(figsize=(4,4))\n",
    "sns.boxplot(x=df['Discount'])\n",
    "plt.show()\n",
    "\n",
    "plt.figure(figsize=(4,4))\n",
    "sns.boxplot(x=df['Profit'])\n",
    "plt.show()"
   ]
  },
  {
   "cell_type": "code",
   "execution_count": 348,
   "metadata": {},
   "outputs": [
    {
     "data": {
      "image/png": "[encoded data removed]",
      "text/plain": [
       "<Figure size 1600x800 with 4 Axes>"
      ]
     },
     "metadata": {},
     "output_type": "display_data"
    }
   ],
   "source": [
    "numerical_cols = ['Profit', 'Sales', 'Quantity', 'Discount']\n",
    "\n",
    "# Define a function to insert outliers using upper and lower bounds\n",
    "def insert_outliers_with_bounds(df, column_name, threshold=1.5):\n",
    "    q1 = df[column_name].quantile(0.25)\n",
    "    q3 = df[column_name].quantile(0.75)\n",
    "    iqr = q3 - q1\n",
    "    lower_bound = q1 - threshold * iqr\n",
    "    upper_bound = q3 + threshold * iqr\n",
    "\n",
    "    df_copy = df.copy()  # Create a copy of the DataFrame\n",
    "    df_copy.loc[df_copy[column_name] < lower_bound, column_name] = lower_bound\n",
    "    df_copy.loc[df_copy[column_name] > upper_bound, column_name] = upper_bound\n",
    "\n",
    "    return df_copy\n",
    "\n",
    "\n",
    "# Apply the function to insert outliers for the specified columns\n",
    "for column in numerical_cols:\n",
    "    df = insert_outliers_with_bounds(df, column)\n",
    "\n",
    "# Create boxplots after inserting outliers\n",
    "plt.figure(figsize=(16, 8))\n",
    "for i, column in enumerate(numerical_cols):\n",
    "    plt.subplot(3, 6, i + 1)  # Create a grid of 3 rows and 6 columns\n",
    "    sns.boxplot(data=df, x=column)\n",
    "    plt.title(column)\n",
    "\n",
    "plt.tight_layout()\n",
    "plt.show()"
   ]
  },
  {
   "cell_type": "markdown",
   "metadata": {},
   "source": [
    "# <strong> 3. Analisa Data, Menamplikan Visualisasi, Kesimpulan dan Rekomendasi"
   ]
  },
  {
   "cell_type": "markdown",
   "metadata": {},
   "source": [
    "    1. 5 Negara dengan penjualan tertinggi: perusahan ingin mengetahui 5 negara dengan penjualan tertinggi."
   ]
  },
  {
   "cell_type": "code",
   "execution_count": 334,
   "metadata": {},
   "outputs": [
    {
     "name": "stdout",
     "output_type": "stream",
     "text": [
      "Country\n",
      "United States     457687.6315\n",
      "United Kingdom    313169.8810\n",
      "Japan             170188.0458\n",
      "Canada            138641.2700\n",
      "France            116511.9140\n",
      "Name: Sales, dtype: float64\n",
      "Country\n",
      "United States     19.923710\n",
      "United Kingdom    13.632673\n",
      "Japan              7.408497\n",
      "Canada             6.035226\n",
      "France             5.071908\n",
      "Name: Sales, dtype: float64\n"
     ]
    },
    {
     "name": "stderr",
     "output_type": "stream",
     "text": [
      "C:\\Users\\ASUS\\AppData\\Local\\Temp\\ipykernel_7472\\3648295158.py:16: FutureWarning: \n",
      "\n",
      "Passing `palette` without assigning `hue` is deprecated and will be removed in v0.14.0. Assign the `x` variable to `hue` and set `legend=False` for the same effect.\n",
      "\n",
      "  ax = sns.barplot(x=top_5_countries_sales.index, y=top_5_countries_sales.values, palette='mako')\n"
     ]
    },
    {
     "data": {
      "image/png": "[encoded data removed]",
      "text/plain": [
       "<Figure size 1000x600 with 1 Axes>"
      ]
     },
     "metadata": {},
     "output_type": "display_data"
    }
   ],
   "source": [
    "# Menghitung Total Sales per negara\n",
    "total_sales_by_country = df.groupby('Country')['Sales'].sum().sort_values(ascending=False)\n",
    "\n",
    "#  5 Country with total profit tertinggi\n",
    "top_5_countries_sales = total_sales_by_country.head(5)\n",
    "\n",
    "# Hitung persentase dari total profit yang diwakili oleh 5 negara teratas\n",
    "percentage_top_5_countries = (top_5_countries_sales / total_sales_by_country.sum()) * 100\n",
    "\n",
    "# Menampilkan hasil\n",
    "print(top_5_countries_sales)\n",
    "print(percentage_top_5_countries)\n",
    "\n",
    "# Visualisasi\n",
    "plt.figure(figsize=(10, 6))\n",
    "ax = sns.barplot(x=top_5_countries_sales.index, y=top_5_countries_sales.values, palette='mako')\n",
    "plt.title('Top 5 Countries with the Highest Sales')\n",
    "plt.ylabel('Total Sales')\n",
    "plt.xlabel('Country')\n",
    "\n",
    "# Tambahkan label persentase pada bar chart\n",
    "for p, percentage in zip(ax.patches, percentage_top_5_countries):\n",
    "    height = p.get_height()\n",
    "    ax.text(p.get_x() + p.get_width() / 2., height + 1000, '{:1.2f}%'.format(percentage), ha=\"center\") \n",
    "\n",
    "plt.show()\n"
   ]
  },
  {
   "cell_type": "markdown",
   "metadata": {},
   "source": [
    "     2. 3 Industri dengan total profit tertinggi: Perusahan ingin mengetahui 3 industri dengan total profit tertinggi."
   ]
  },
  {
   "cell_type": "code",
   "execution_count": 335,
   "metadata": {},
   "outputs": [
    {
     "data": {
      "text/html": [
       "<div>\n",
       "<style scoped>\n",
       "    .dataframe tbody tr th:only-of-type {\n",
       "        vertical-align: middle;\n",
       "    }\n",
       "\n",
       "    .dataframe tbody tr th {\n",
       "        vertical-align: top;\n",
       "    }\n",
       "\n",
       "    .dataframe thead th {\n",
       "        text-align: right;\n",
       "    }\n",
       "</style>\n",
       "<table border=\"1\" class=\"dataframe\">\n",
       "  <thead>\n",
       "    <tr style=\"text-align: right;\">\n",
       "      <th></th>\n",
       "      <th>Profit</th>\n",
       "    </tr>\n",
       "    <tr>\n",
       "      <th>Industry</th>\n",
       "      <th></th>\n",
       "    </tr>\n",
       "  </thead>\n",
       "  <tbody>\n",
       "    <tr>\n",
       "      <th>Communications</th>\n",
       "      <td>13976.34</td>\n",
       "    </tr>\n",
       "    <tr>\n",
       "      <th>Consumer Products</th>\n",
       "      <td>37018.01</td>\n",
       "    </tr>\n",
       "    <tr>\n",
       "      <th>Energy</th>\n",
       "      <td>45282.31</td>\n",
       "    </tr>\n",
       "    <tr>\n",
       "      <th>Finance</th>\n",
       "      <td>50348.97</td>\n",
       "    </tr>\n",
       "    <tr>\n",
       "      <th>Healthcare</th>\n",
       "      <td>31969.09</td>\n",
       "    </tr>\n",
       "    <tr>\n",
       "      <th>Manufacturing</th>\n",
       "      <td>38413.11</td>\n",
       "    </tr>\n",
       "    <tr>\n",
       "      <th>Misc</th>\n",
       "      <td>7163.63</td>\n",
       "    </tr>\n",
       "    <tr>\n",
       "      <th>Retail</th>\n",
       "      <td>30207.82</td>\n",
       "    </tr>\n",
       "    <tr>\n",
       "      <th>Tech</th>\n",
       "      <td>24615.04</td>\n",
       "    </tr>\n",
       "    <tr>\n",
       "      <th>Transportation</th>\n",
       "      <td>7402.70</td>\n",
       "    </tr>\n",
       "  </tbody>\n",
       "</table>\n",
       "</div>"
      ],
      "text/plain": [
       "                     Profit\n",
       "Industry                   \n",
       "Communications     13976.34\n",
       "Consumer Products  37018.01\n",
       "Energy             45282.31\n",
       "Finance            50348.97\n",
       "Healthcare         31969.09\n",
       "Manufacturing      38413.11\n",
       "Misc                7163.63\n",
       "Retail             30207.82\n",
       "Tech               24615.04\n",
       "Transportation      7402.70"
      ]
     },
     "execution_count": 335,
     "metadata": {},
     "output_type": "execute_result"
    }
   ],
   "source": [
    "# Menghitung Total Profit setiap Industry\n",
    "total_profit_all_industry = df.groupby('Industry')[['Profit']].sum().apply(lambda x: round(x,2))\n",
    "total_profit_all_industry"
   ]
  },
  {
   "cell_type": "code",
   "execution_count": 336,
   "metadata": {},
   "outputs": [
    {
     "data": {
      "text/html": [
       "<div>\n",
       "<style scoped>\n",
       "    .dataframe tbody tr th:only-of-type {\n",
       "        vertical-align: middle;\n",
       "    }\n",
       "\n",
       "    .dataframe tbody tr th {\n",
       "        vertical-align: top;\n",
       "    }\n",
       "\n",
       "    .dataframe thead th {\n",
       "        text-align: right;\n",
       "    }\n",
       "</style>\n",
       "<table border=\"1\" class=\"dataframe\">\n",
       "  <thead>\n",
       "    <tr style=\"text-align: right;\">\n",
       "      <th></th>\n",
       "      <th>Profit</th>\n",
       "    </tr>\n",
       "    <tr>\n",
       "      <th>Industry</th>\n",
       "      <th></th>\n",
       "    </tr>\n",
       "  </thead>\n",
       "  <tbody>\n",
       "    <tr>\n",
       "      <th>Finance</th>\n",
       "      <td>50348.97</td>\n",
       "    </tr>\n",
       "    <tr>\n",
       "      <th>Energy</th>\n",
       "      <td>45282.31</td>\n",
       "    </tr>\n",
       "    <tr>\n",
       "      <th>Manufacturing</th>\n",
       "      <td>38413.11</td>\n",
       "    </tr>\n",
       "  </tbody>\n",
       "</table>\n",
       "</div>"
      ],
      "text/plain": [
       "                 Profit\n",
       "Industry               \n",
       "Finance        50348.97\n",
       "Energy         45282.31\n",
       "Manufacturing  38413.11"
      ]
     },
     "execution_count": 336,
     "metadata": {},
     "output_type": "execute_result"
    }
   ],
   "source": [
    "top_3_profit_industry = total_profit_all_industry.sort_values(by='Profit', ascending=False).head(3)\n",
    "top_3_profit_industry"
   ]
  },
  {
   "cell_type": "code",
   "execution_count": 353,
   "metadata": {},
   "outputs": [
    {
     "data": {
      "text/plain": [
       "(0.0, 100.0, 0.0, 100.0)"
      ]
     },
     "execution_count": 353,
     "metadata": {},
     "output_type": "execute_result"
    },
    {
     "data": {
      "image/png": "[encoded data removed]",
      "text/plain": [
       "<Figure size 640x480 with 1 Axes>"
      ]
     },
     "metadata": {},
     "output_type": "display_data"
    }
   ],
   "source": [
    "# Data top 3 industri dengan keuntungan tertinggi\n",
    "top_3_profit_industry = total_profit_all_industry.sort_values(by='Profit', ascending=False).head(3)\n",
    "\n",
    "# Ekstrak data dari DataFrame\n",
    "sizes = top_3_profit_industry['Profit']\n",
    "labels = top_3_profit_industry.index  # Menggunakan indeks industri sebagai label\n",
    "\n",
    "# Membuat tree map\n",
    "squarify.plot(sizes=sizes, label=labels, color=['green', 'yellow', 'blue'], alpha=0.7)\n",
    "\n",
    "# Menambahkan judul plot\n",
    "plt.title('Top 3 Industries with the Highest Profit (Tree Map)', fontsize=20)\n",
    "\n",
    "# Menghilangkan sumbu (axis)\n",
    "plt.axis('off')"
   ]
  },
  {
   "cell_type": "markdown",
   "metadata": {},
   "source": [
    "     3. 5 Produk dengan margin profit tertinggi: Perusahaan ingin mengetahui 5 produk dengan margin keuntungan tertinggi"
   ]
  },
  {
   "cell_type": "code",
   "execution_count": 338,
   "metadata": {},
   "outputs": [
    {
     "data": {
      "text/html": [
       "<div>\n",
       "<style scoped>\n",
       "    .dataframe tbody tr th:only-of-type {\n",
       "        vertical-align: middle;\n",
       "    }\n",
       "\n",
       "    .dataframe tbody tr th {\n",
       "        vertical-align: top;\n",
       "    }\n",
       "\n",
       "    .dataframe thead th {\n",
       "        text-align: right;\n",
       "    }\n",
       "</style>\n",
       "<table border=\"1\" class=\"dataframe\">\n",
       "  <thead>\n",
       "    <tr style=\"text-align: right;\">\n",
       "      <th></th>\n",
       "      <th>Profit</th>\n",
       "      <th>Sales</th>\n",
       "    </tr>\n",
       "    <tr>\n",
       "      <th>Product</th>\n",
       "      <th></th>\n",
       "      <th></th>\n",
       "    </tr>\n",
       "  </thead>\n",
       "  <tbody>\n",
       "    <tr>\n",
       "      <th>Alchemy</th>\n",
       "      <td>55617.8249</td>\n",
       "      <td>149528.0300</td>\n",
       "    </tr>\n",
       "    <tr>\n",
       "      <th>Big Ol Database</th>\n",
       "      <td>3384.7569</td>\n",
       "      <td>189238.6310</td>\n",
       "    </tr>\n",
       "    <tr>\n",
       "      <th>ChatBot Plugin</th>\n",
       "      <td>6527.7870</td>\n",
       "      <td>27118.7920</td>\n",
       "    </tr>\n",
       "    <tr>\n",
       "      <th>ContactMatcher</th>\n",
       "      <td>12496.2822</td>\n",
       "      <td>410378.2650</td>\n",
       "    </tr>\n",
       "    <tr>\n",
       "      <th>Data Smasher</th>\n",
       "      <td>41936.6357</td>\n",
       "      <td>167380.3180</td>\n",
       "    </tr>\n",
       "    <tr>\n",
       "      <th>FinanceHub</th>\n",
       "      <td>32136.4203</td>\n",
       "      <td>340935.4150</td>\n",
       "    </tr>\n",
       "    <tr>\n",
       "      <th>Marketing Suite</th>\n",
       "      <td>-3472.5560</td>\n",
       "      <td>114879.9963</td>\n",
       "    </tr>\n",
       "    <tr>\n",
       "      <th>Marketing Suite - Gold</th>\n",
       "      <td>21278.8264</td>\n",
       "      <td>223843.6080</td>\n",
       "    </tr>\n",
       "    <tr>\n",
       "      <th>OneView</th>\n",
       "      <td>18138.0054</td>\n",
       "      <td>107532.1610</td>\n",
       "    </tr>\n",
       "    <tr>\n",
       "      <th>SaaS Connector Pack</th>\n",
       "      <td>13059.1436</td>\n",
       "      <td>91705.1640</td>\n",
       "    </tr>\n",
       "    <tr>\n",
       "      <th>SaaS Connector Pack - Gold</th>\n",
       "      <td>6964.1767</td>\n",
       "      <td>16476.4020</td>\n",
       "    </tr>\n",
       "    <tr>\n",
       "      <th>Site Analytics</th>\n",
       "      <td>44515.7306</td>\n",
       "      <td>330007.0540</td>\n",
       "    </tr>\n",
       "    <tr>\n",
       "      <th>Storage</th>\n",
       "      <td>949.5182</td>\n",
       "      <td>3024.2800</td>\n",
       "    </tr>\n",
       "    <tr>\n",
       "      <th>Support</th>\n",
       "      <td>32864.4698</td>\n",
       "      <td>125152.7440</td>\n",
       "    </tr>\n",
       "  </tbody>\n",
       "</table>\n",
       "</div>"
      ],
      "text/plain": [
       "                                Profit        Sales\n",
       "Product                                            \n",
       "Alchemy                     55617.8249  149528.0300\n",
       "Big Ol Database              3384.7569  189238.6310\n",
       "ChatBot Plugin               6527.7870   27118.7920\n",
       "ContactMatcher              12496.2822  410378.2650\n",
       "Data Smasher                41936.6357  167380.3180\n",
       "FinanceHub                  32136.4203  340935.4150\n",
       "Marketing Suite             -3472.5560  114879.9963\n",
       "Marketing Suite - Gold      21278.8264  223843.6080\n",
       "OneView                     18138.0054  107532.1610\n",
       "SaaS Connector Pack         13059.1436   91705.1640\n",
       "SaaS Connector Pack - Gold   6964.1767   16476.4020\n",
       "Site Analytics              44515.7306  330007.0540\n",
       "Storage                       949.5182    3024.2800\n",
       "Support                     32864.4698  125152.7440"
      ]
     },
     "execution_count": 338,
     "metadata": {},
     "output_type": "execute_result"
    }
   ],
   "source": [
    "total_profit_from_products = df.groupby('Product')[['Profit', 'Sales']].sum()\n",
    "total_profit_from_products"
   ]
  },
  {
   "cell_type": "code",
   "execution_count": 339,
   "metadata": {},
   "outputs": [
    {
     "data": {
      "text/html": [
       "<div>\n",
       "<style scoped>\n",
       "    .dataframe tbody tr th:only-of-type {\n",
       "        vertical-align: middle;\n",
       "    }\n",
       "\n",
       "    .dataframe tbody tr th {\n",
       "        vertical-align: top;\n",
       "    }\n",
       "\n",
       "    .dataframe thead th {\n",
       "        text-align: right;\n",
       "    }\n",
       "</style>\n",
       "<table border=\"1\" class=\"dataframe\">\n",
       "  <thead>\n",
       "    <tr style=\"text-align: right;\">\n",
       "      <th></th>\n",
       "      <th>Profit</th>\n",
       "      <th>Sales</th>\n",
       "      <th>Margin (%)</th>\n",
       "    </tr>\n",
       "    <tr>\n",
       "      <th>Product</th>\n",
       "      <th></th>\n",
       "      <th></th>\n",
       "      <th></th>\n",
       "    </tr>\n",
       "  </thead>\n",
       "  <tbody>\n",
       "    <tr>\n",
       "      <th>Alchemy</th>\n",
       "      <td>55617.8249</td>\n",
       "      <td>149528.030</td>\n",
       "      <td>37</td>\n",
       "    </tr>\n",
       "    <tr>\n",
       "      <th>Big Ol Database</th>\n",
       "      <td>3384.7569</td>\n",
       "      <td>189238.631</td>\n",
       "      <td>2</td>\n",
       "    </tr>\n",
       "    <tr>\n",
       "      <th>ChatBot Plugin</th>\n",
       "      <td>6527.7870</td>\n",
       "      <td>27118.792</td>\n",
       "      <td>24</td>\n",
       "    </tr>\n",
       "    <tr>\n",
       "      <th>ContactMatcher</th>\n",
       "      <td>12496.2822</td>\n",
       "      <td>410378.265</td>\n",
       "      <td>3</td>\n",
       "    </tr>\n",
       "    <tr>\n",
       "      <th>Data Smasher</th>\n",
       "      <td>41936.6357</td>\n",
       "      <td>167380.318</td>\n",
       "      <td>25</td>\n",
       "    </tr>\n",
       "  </tbody>\n",
       "</table>\n",
       "</div>"
      ],
      "text/plain": [
       "                     Profit       Sales  Margin (%)\n",
       "Product                                            \n",
       "Alchemy          55617.8249  149528.030          37\n",
       "Big Ol Database   3384.7569  189238.631           2\n",
       "ChatBot Plugin    6527.7870   27118.792          24\n",
       "ContactMatcher   12496.2822  410378.265           3\n",
       "Data Smasher     41936.6357  167380.318          25"
      ]
     },
     "execution_count": 339,
     "metadata": {},
     "output_type": "execute_result"
    }
   ],
   "source": [
    "# Menghitung total profit dan sales untuk setiap produk\n",
    "total_profit_from_products = df.groupby('Product')[['Profit', 'Sales']].sum()\n",
    "\n",
    "# Menambahkan kolom baru untuk perbandingan margin dalam persen\n",
    "total_profit_from_products['Margin (%)'] = round (total_profit_from_products['Profit'] / total_profit_from_products['Sales']*100).apply(lambda x: int(x))\n",
    "\n",
    "# Menampilkan hasil\n",
    "total_profit_from_products.head()"
   ]
  },
  {
   "cell_type": "code",
   "execution_count": 340,
   "metadata": {},
   "outputs": [
    {
     "data": {
      "text/html": [
       "<div>\n",
       "<style scoped>\n",
       "    .dataframe tbody tr th:only-of-type {\n",
       "        vertical-align: middle;\n",
       "    }\n",
       "\n",
       "    .dataframe tbody tr th {\n",
       "        vertical-align: top;\n",
       "    }\n",
       "\n",
       "    .dataframe thead th {\n",
       "        text-align: right;\n",
       "    }\n",
       "</style>\n",
       "<table border=\"1\" class=\"dataframe\">\n",
       "  <thead>\n",
       "    <tr style=\"text-align: right;\">\n",
       "      <th></th>\n",
       "      <th>Product</th>\n",
       "      <th>Profit</th>\n",
       "      <th>Sales</th>\n",
       "      <th>Margin (%)</th>\n",
       "    </tr>\n",
       "  </thead>\n",
       "  <tbody>\n",
       "    <tr>\n",
       "      <th>0</th>\n",
       "      <td>SaaS Connector Pack - Gold</td>\n",
       "      <td>6964.1767</td>\n",
       "      <td>16476.402</td>\n",
       "      <td>42</td>\n",
       "    </tr>\n",
       "    <tr>\n",
       "      <th>1</th>\n",
       "      <td>Alchemy</td>\n",
       "      <td>55617.8249</td>\n",
       "      <td>149528.030</td>\n",
       "      <td>37</td>\n",
       "    </tr>\n",
       "    <tr>\n",
       "      <th>2</th>\n",
       "      <td>Storage</td>\n",
       "      <td>949.5182</td>\n",
       "      <td>3024.280</td>\n",
       "      <td>31</td>\n",
       "    </tr>\n",
       "    <tr>\n",
       "      <th>3</th>\n",
       "      <td>Support</td>\n",
       "      <td>32864.4698</td>\n",
       "      <td>125152.744</td>\n",
       "      <td>26</td>\n",
       "    </tr>\n",
       "    <tr>\n",
       "      <th>4</th>\n",
       "      <td>Data Smasher</td>\n",
       "      <td>41936.6357</td>\n",
       "      <td>167380.318</td>\n",
       "      <td>25</td>\n",
       "    </tr>\n",
       "  </tbody>\n",
       "</table>\n",
       "</div>"
      ],
      "text/plain": [
       "                      Product      Profit       Sales  Margin (%)\n",
       "0  SaaS Connector Pack - Gold   6964.1767   16476.402          42\n",
       "1                     Alchemy  55617.8249  149528.030          37\n",
       "2                     Storage    949.5182    3024.280          31\n",
       "3                     Support  32864.4698  125152.744          26\n",
       "4                Data Smasher  41936.6357  167380.318          25"
      ]
     },
     "execution_count": 340,
     "metadata": {},
     "output_type": "execute_result"
    }
   ],
   "source": [
    "the_highest_profit_from_products = total_profit_from_products.sort_values(by='Margin (%)', ascending=False).head().reset_index()\n",
    "the_highest_profit_from_products.head()"
   ]
  },
  {
   "cell_type": "code",
   "execution_count": 341,
   "metadata": {},
   "outputs": [
    {
     "data": {
      "image/png": "[encoded data removed]",
      "text/plain": [
       "<Figure size 1000x600 with 1 Axes>"
      ]
     },
     "metadata": {},
     "output_type": "display_data"
    }
   ],
   "source": [
    "# Plot bar chart untuk top 5 produk dengan margin tertinggi\n",
    "plt.figure(figsize=(10, 6))\n",
    "plt.bar(the_highest_profit_from_products['Product'], the_highest_profit_from_products['Margin (%)'], color='green', alpha=0.7)\n",
    "\n",
    "# Menambahkan label dan judul\n",
    "plt.xlabel('Product')\n",
    "plt.ylabel('Margin (%)')\n",
    "plt.title('Top 5 Products with Highest Margin Percentage')\n",
    "\n",
    "# Menambahkan nilai persentase margin pada bar\n",
    "for i, val in enumerate(the_highest_profit_from_products['Margin (%)']):\n",
    "    plt.text(i, val + 1, f'{val}%', ha='center', va='bottom', color='black')\n",
    "\n",
    "plt.show()"
   ]
  },
  {
   "cell_type": "markdown",
   "metadata": {},
   "source": [
    "\n",
    "     4. Menghitung korelasi antara Profit, Sales, and Discount: Perusahan ingin mengetahui korelasi antara profit dan diskon untuk mengukur efektivitas diskon dalam penjualan"
   ]
  },
  {
   "cell_type": "code",
   "execution_count": 342,
   "metadata": {},
   "outputs": [
    {
     "data": {
      "image/png": "[encoded data removed]",
      "text/plain": [
       "<Figure size 800x600 with 2 Axes>"
      ]
     },
     "metadata": {},
     "output_type": "display_data"
    },
    {
     "data": {
      "text/html": [
       "<div>\n",
       "<style scoped>\n",
       "    .dataframe tbody tr th:only-of-type {\n",
       "        vertical-align: middle;\n",
       "    }\n",
       "\n",
       "    .dataframe tbody tr th {\n",
       "        vertical-align: top;\n",
       "    }\n",
       "\n",
       "    .dataframe thead th {\n",
       "        text-align: right;\n",
       "    }\n",
       "</style>\n",
       "<table border=\"1\" class=\"dataframe\">\n",
       "  <thead>\n",
       "    <tr style=\"text-align: right;\">\n",
       "      <th></th>\n",
       "      <th>Profit</th>\n",
       "      <th>Sales</th>\n",
       "      <th>Discount</th>\n",
       "    </tr>\n",
       "  </thead>\n",
       "  <tbody>\n",
       "    <tr>\n",
       "      <th>Profit</th>\n",
       "      <td>1.000000</td>\n",
       "      <td>0.479064</td>\n",
       "      <td>-0.219487</td>\n",
       "    </tr>\n",
       "    <tr>\n",
       "      <th>Sales</th>\n",
       "      <td>0.479064</td>\n",
       "      <td>1.000000</td>\n",
       "      <td>-0.028190</td>\n",
       "    </tr>\n",
       "    <tr>\n",
       "      <th>Discount</th>\n",
       "      <td>-0.219487</td>\n",
       "      <td>-0.028190</td>\n",
       "      <td>1.000000</td>\n",
       "    </tr>\n",
       "  </tbody>\n",
       "</table>\n",
       "</div>"
      ],
      "text/plain": [
       "            Profit     Sales  Discount\n",
       "Profit    1.000000  0.479064 -0.219487\n",
       "Sales     0.479064  1.000000 -0.028190\n",
       "Discount -0.219487 -0.028190  1.000000"
      ]
     },
     "execution_count": 342,
     "metadata": {},
     "output_type": "execute_result"
    }
   ],
   "source": [
    "# Hitung matriks korelasi antara Profit, Sales, dan Discount\n",
    "correlation_matrix = df[['Profit', 'Sales', 'Discount']].corr()\n",
    "\n",
    "# Visualisasi dengan Heatmap\n",
    "plt.figure(figsize=(8, 6))\n",
    "sns.heatmap(correlation_matrix, annot=True, cmap='seismic', fmt=\".2f\")\n",
    "plt.title('Heatmap of Correlation Between Profit Sales, and Discount')\n",
    "plt.show()\n",
    "\n",
    "correlation_matrix"
   ]
  },
  {
   "cell_type": "markdown",
   "metadata": {},
   "source": [
    "Profit vs Sales: 0,45 (Korelasi positif sedang)\n",
    "\n",
    "Profit vs Discount: -0,52 (Korelasi negatif kuat)\n",
    "\n",
    "Sales vs Discount: -0,01 (Tidak ada korelasi signifikan)\n",
    "\n",
    "     Penjelasan:\n",
    "\n",
    "Profit dan sales: Ada hubungan positif antara profit dan sales, artinya penjualan yang lebih tinggi cenderung dikaitkan dengan laba yang lebih tinggi.\n",
    "\n",
    "Profit dan Discount: Terdapat hubungan negatif yang kuat antara profit dan discount, yang menunjukkan bahwa diskon cenderung mengurangi keuntungan.\n",
    "\n",
    "Sales dan Discount: Tidak ada hubungan yang signifikan antara penjualan dan diskon, menunjukkan bahwa peningkatan diskon tidak berhubungan langsung dengan peningkatan atau penurunan penjualan."
   ]
  },
  {
   "cell_type": "code",
   "execution_count": 344,
   "metadata": {},
   "outputs": [
    {
     "name": "stdout",
     "output_type": "stream",
     "text": [
      "Koefisien Korelasi Spearman: -0.5433501822306213\n",
      "Nilai p-value: 0.0\n"
     ]
    }
   ],
   "source": [
    "import scipy.stats as stats\n",
    "\n",
    "# Menghitung korelasi Spearman antara 'Profit' dan 'Discount'\n",
    "spearman_corr_coefficient_profit_discount, spearman_p_value_profit_discount = stats.spearmanr(df['Profit'], df['Discount'])\n",
    "\n",
    "# Menampilkan hasil korelasi Spearman\n",
    "print(\"Koefisien Korelasi Spearman:\", spearman_corr_coefficient_profit_discount)\n",
    "print(\"Nilai p-value:\", spearman_p_value_profit_discount)"
   ]
  },
  {
   "cell_type": "markdown",
   "metadata": {},
   "source": [
    "nilai p : 0.0 (sangat kecil, mendekati nol)\n",
    "\n",
    "     Penjelasan:\n",
    "\n",
    "Dampak Diskon terhadap Profit: Diskon tampaknya berdampak negatif terhadap profit, yang mungkin disebabkan oleh diskon yang mengurangi margin keuntungan per unit produk yang dijual.\n",
    "\n",
    "Pertimbangan Kebijakan Diskon: Perusahaan harus meninjau kembali kebijakan diskonnya untuk memastikan bahwa diskon tidak mengurangi keuntungan secara berlebihan.\n",
    "\n",
    "Uji Korelasi Spearman: Uji korelasi Spearman adalah metode yang lebih tepat untuk digunakan dalam konteks ini. Hasil uji Spearman memberikan bukti kuat adanya hubungan negatif antara laba dan diskon."
   ]
  },
  {
   "cell_type": "markdown",
   "metadata": {},
   "source": [
    "# Kesimpulan dan Rekomendasi\n",
    "\n",
    "  Kesimpulan\n",
    "- Amerika Serikat, Inggris, Jepang, Kanada, dan Prancis menjadi negara dengan penjualan tertinggi.\n",
    "- Industri Finance, Energy, and Manufacturing menghasilkan keuntungan tertinggi.\n",
    "- Produk dan Margin Profit: Beberapa produk memiliki margin keuntungan yang sangat tinggi, seperti 'SaaS Connector Pack-Gold', Alchemy, Storage, Support, and Data Smasher.\n",
    "- Terdapat korelasi negatif antara penjualan dan diskon, penting untuk mengevaluasi strategi diskon Anda dengan cermat\n"
   ]
  },
  {
   "cell_type": "markdown",
   "metadata": {},
   "source": [
    "Rekommendasi:\n",
    "- Disarankan perusahan Untuk memperluas tim dan jaringan Anda di wilayah ini, perushaan harus mempertimbangkan untuk membentuk tim penjualan dan memanfaatkan potensi penjualan yang kuat di masing-masing negara tersebut. \n",
    "- Perusahaan diharapkan mertimbangkan untuk menyesuaikan penawaran produk dan strategi pemasaran Anda untuk secara khusus menargetkan pada industri ini.\n",
    "- Perusahaan disarankan untuk mengalokasikan lebih banyak sumber daya dan fokus untuk lebih meningkatkan dan mengembankan produk-produk seperti eperti 'SaaS Connector Pack-Gold', Alchemy, Storage, Support, and Data Smasher.\n",
    "- perusahaan harus mertimbangkan untuk melakukan pengujian lebih lanjut untuk mengukur dampak diskon terhadap profit penjualan."
   ]
  }
 ],
 "metadata": {
  "kernelspec": {
   "display_name": "Python 3",
   "language": "python",
   "name": "python3"
  },
  "language_info": {
   "codemirror_mode": {
    "name": "ipython",
    "version": 3
   },
   "file_extension": ".py",
   "mimetype": "text/x-python",
   "name": "python",
   "nbconvert_exporter": "python",
   "pygments_lexer": "ipython3",
   "version": "3.12.0"
  }
 },
 "nbformat": 4,
 "nbformat_minor": 2
}
